{
 "cells": [
  {
   "cell_type": "markdown",
   "id": "74287d2b",
   "metadata": {},
   "source": [
    "## Given a list L = [100,53,200,79,20,89,1007]\n",
    "Segregate them in to even number list and odd number list"
   ]
  },
  {
   "cell_type": "code",
   "execution_count": 4,
   "id": "c4936549",
   "metadata": {},
   "outputs": [],
   "source": [
    "L = [100,40,53,99,206,907]"
   ]
  },
  {
   "cell_type": "code",
   "execution_count": 8,
   "id": "e0f48ae3",
   "metadata": {},
   "outputs": [
    {
     "name": "stdout",
     "output_type": "stream",
     "text": [
      "[100, 40, 206]\n"
     ]
    }
   ],
   "source": [
    "even = []\n",
    "for x in L:\n",
    "    if x%2 == 0:\n",
    "        even.append(x)\n",
    "print(even)"
   ]
  },
  {
   "cell_type": "code",
   "execution_count": 11,
   "id": "464d8bd5",
   "metadata": {},
   "outputs": [
    {
     "name": "stdout",
     "output_type": "stream",
     "text": [
      "[53, 99, 907]\n"
     ]
    }
   ],
   "source": [
    "odd = []\n",
    "for x in L:\n",
    "    if x%2 == 1:\n",
    "        odd.append(x)\n",
    "print(odd)"
   ]
  },
  {
   "cell_type": "code",
   "execution_count": 4,
   "id": "c0c5ecf8",
   "metadata": {},
   "outputs": [
    {
     "name": "stdout",
     "output_type": "stream",
     "text": [
      "[['apple', 10], ['banana', 5], ['cherry', 10], ['dragon', 10], ['grapes', 9], ['apples', 10]]\n"
     ]
    }
   ],
   "source": [
    "orders = [['apple',10], ['banana',5], ['cherry',7], ['dragon', 10] ,['grapes',9],['apples',10]]\n",
    "for each in orders:\n",
    "    if each[0] ==\"cherry\":\n",
    "        each[1] = 10\n",
    "print(orders)"
   ]
  },
  {
   "cell_type": "code",
   "execution_count": 5,
   "id": "896ab21d",
   "metadata": {},
   "outputs": [
    {
     "name": "stdout",
     "output_type": "stream",
     "text": [
      "[['apple', 10], ['banana', 5], ['cherry', 10], ['dragon', 10], ['grapes', 9], ['apples', 10]]\n"
     ]
    }
   ],
   "source": [
    "orders = [['apple',10], ['banana',5], ['cherry',7], ['dragon', 10] ,['grapes',9],['apples',10]]\n",
    "for each in orders:\n",
    "    if each[0] ==\"cherry\":\n",
    "        each[1] = 10\n",
    "print(orders)\n",
    "orders.append(['apple',11])         "
   ]
  },
  {
   "cell_type": "code",
   "execution_count": 6,
   "id": "d15a9cd6",
   "metadata": {},
   "outputs": [
    {
     "name": "stdout",
     "output_type": "stream",
     "text": [
      "[['apple', 10], ['banana', 5], ['cherry', 10], ['dragon', 10], ['grapes', 9], ['apples', 10], ['apple', 11], ['apple', 15]]\n",
      "[10, 5, 10, 10, 9, 10, 11, 15]\n",
      "80\n"
     ]
    }
   ],
   "source": [
    "orders.append([\"apple\",15])\n",
    "print(orders)\n",
    "total = []\n",
    "for each_item in orders:\n",
    "    if each_item in orders:\n",
    "        total.append(each_item[1])\n",
    "print(total)\n",
    "print(sum(total))"
   ]
  },
  {
   "cell_type": "code",
   "execution_count": 9,
   "id": "65129111",
   "metadata": {
    "scrolled": true
   },
   "outputs": [
    {
     "name": "stdout",
     "output_type": "stream",
     "text": [
      "(4, 10, 9, 'A', 9.81, False, (9-6j))\n",
      "<class 'tuple'>\n"
     ]
    }
   ],
   "source": [
    "# create a tuple\n",
    "tup1 = (4,10,9,\"A\",9.81, False, 9-6j)\n",
    "print (tup1)\n",
    "print (type(tup1))"
   ]
  },
  {
   "cell_type": "code",
   "execution_count": 10,
   "id": "52b2cab9",
   "metadata": {},
   "outputs": [
    {
     "data": {
      "text/plain": [
       "(9.81, False)"
      ]
     },
     "execution_count": 10,
     "metadata": {},
     "output_type": "execute_result"
    }
   ],
   "source": [
    "#slicing the tuple\n",
    "tup1[4:6]"
   ]
  },
  {
   "cell_type": "code",
   "execution_count": 11,
   "id": "0d136d85",
   "metadata": {},
   "outputs": [
    {
     "data": {
      "text/plain": [
       "6"
      ]
     },
     "execution_count": 11,
     "metadata": {},
     "output_type": "execute_result"
    }
   ],
   "source": [
    "#use index() method to find the index value\n",
    "tup1.index(9-6j)"
   ]
  },
  {
   "cell_type": "code",
   "execution_count": 12,
   "id": "e867d36f",
   "metadata": {},
   "outputs": [
    {
     "data": {
      "text/plain": [
       "4"
      ]
     },
     "execution_count": 12,
     "metadata": {},
     "output_type": "execute_result"
    }
   ],
   "source": [
    "#use count() method of tuple to count \n",
    "tup2 = (10,20,1,10,10,30,10)\n",
    "tup2.count(10)"
   ]
  },
  {
   "cell_type": "code",
   "execution_count": 5,
   "id": "126e9ec7",
   "metadata": {},
   "outputs": [
    {
     "name": "stdout",
     "output_type": "stream",
     "text": [
      "{'Virat': 90, 'Rohit': 100, 'Rahul': 70, 'Hardik': 9, 'Gill': 20, 'Jadeja': 30, 'Siraj': 15, 'Aswin': 15}\n"
     ]
    }
   ],
   "source": [
    "scores={\"Virat\":90,\n",
    "       \"Rohit\":100,\n",
    "       \"Rahul\":70,\n",
    "       \"Hardik\":9,\n",
    "       \"Gill\":20,\n",
    "       \"Jadeja\":30,\n",
    "       \"Siraj\":15}\n",
    "scores[\"Aswin\"]=15\n",
    "print(scores)\n"
   ]
  },
  {
   "cell_type": "code",
   "execution_count": 6,
   "id": "aa840486",
   "metadata": {},
   "outputs": [
    {
     "data": {
      "text/plain": [
       "{'A': 10, 'B': 10, 'C': 10, 'D': 10}"
      ]
     },
     "execution_count": 6,
     "metadata": {},
     "output_type": "execute_result"
    }
   ],
   "source": [
    "#use of fromkeys() to create a new dict \n",
    "list1 = [\"A\",\"B\",\"C\",\"D\"]\n",
    "my_dict = dict.fromkeys(list1,10)\n",
    "my_dict"
   ]
  },
  {
   "cell_type": "code",
   "execution_count": 7,
   "id": "126f596f",
   "metadata": {},
   "outputs": [
    {
     "data": {
      "text/plain": [
       "{'Virat': 90,\n",
       " 'Rohit': 100,\n",
       " 'Rahul': 70,\n",
       " 'Hardik': 19,\n",
       " 'Gill': 20,\n",
       " 'Jadeja': 30,\n",
       " 'Siraj': 15,\n",
       " 'Aswin': 15}"
      ]
     },
     "execution_count": 7,
     "metadata": {},
     "output_type": "execute_result"
    }
   ],
   "source": [
    "#using a forloop\n",
    "for k in scores.keys():\n",
    "    if k == 'Hardik':\n",
    "        scores[k] = 19\n",
    "scores"
   ]
  },
  {
   "cell_type": "markdown",
   "id": "5170f5ad",
   "metadata": {},
   "source": [
    "#use for loop to compute total scores"
   ]
  },
  {
   "cell_type": "code",
   "execution_count": 11,
   "id": "2967e352",
   "metadata": {},
   "outputs": [
    {
     "name": "stdout",
     "output_type": "stream",
     "text": [
      "[90, 100, 70, 19, 20, 30, 15, 15]\n",
      "Total scores:  359\n"
     ]
    }
   ],
   "source": [
    "scores_list = []\n",
    "for v in scores.values():\n",
    "    scores_list.append(v)\n",
    "print(scores_list)\n",
    "print(\"Total scores: \", sum(scores_list))\n"
   ]
  },
  {
   "cell_type": "code",
   "execution_count": null,
   "id": "2b3a7573",
   "metadata": {},
   "outputs": [],
   "source": []
  }
 ],
 "metadata": {
  "kernelspec": {
   "display_name": "Python 3 (ipykernel)",
   "language": "python",
   "name": "python3"
  },
  "language_info": {
   "codemirror_mode": {
    "name": "ipython",
    "version": 3
   },
   "file_extension": ".py",
   "mimetype": "text/x-python",
   "name": "python",
   "nbconvert_exporter": "python",
   "pygments_lexer": "ipython3",
   "version": "3.11.5"
  }
 },
 "nbformat": 4,
 "nbformat_minor": 5
}
